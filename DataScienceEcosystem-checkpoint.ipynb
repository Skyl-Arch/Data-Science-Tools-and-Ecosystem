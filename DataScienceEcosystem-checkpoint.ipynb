{
 "cells": [
  {
   "cell_type": "markdown",
   "id": "438c4951-a116-4334-84b9-b22888a630c6",
   "metadata": {},
   "source": [
    "# Data Science Tools and Ecosystem"
   ]
  },
  {
   "cell_type": "markdown",
   "id": "622c5fef-0b23-48fe-8a3d-744e74114d66",
   "metadata": {},
   "source": [
    "## Introduction\n",
    "### Welcome to this notebook!"
   ]
  },
  {
   "cell_type": "markdown",
   "id": "f21e36db-2ed0-4181-ab03-7bfeae768793",
   "metadata": {},
   "source": [
    "### Data Science Languages:\n",
    "- Python\n",
    "- R\n",
    "- SQL"
   ]
  },
  {
   "cell_type": "markdown",
   "id": "035e05bd-744a-4b95-9e98-525789a5169b",
   "metadata": {},
   "source": [
    "### Data Science Libraries:\n",
    "- Pandas\n",
    "- NumPy\n",
    "- Matplotlib"
   ]
  },
  {
   "cell_type": "markdown",
   "id": "b5bf836f-6604-4b71-9d06-ca78ae55481d",
   "metadata": {},
   "source": [
    "### Data Science Tools:\n",
    "| Tool       | Description        |\n",
    "|------------|--------------------|\n",
    "| Jupyter    | Notebook           |\n",
    "| TensorFlow | Machine Learning   |\n",
    "| Tableau    | Data Visualization |"
   ]
  },
  {
   "cell_type": "markdown",
   "id": "c8fcb388-0a42-41eb-bc86-5323f924d6b0",
   "metadata": {},
   "source": [
    "## Arithmetic Expressions\n",
    "Let's explore some arithmetic expressions."
   ]
  },
  {
   "cell_type": "markdown",
   "id": "0d0c5aef-8959-4c89-b0c7-72c6b1cf5f78",
   "metadata": {},
   "source": [
    "### Create a code cell to multiply and add numbers\n"
   ]
  },
  {
   "cell_type": "code",
   "execution_count": 33,
   "id": "d90aa634-5fef-48cf-9699-ee5bd340d1e2",
   "metadata": {},
   "outputs": [
    {
     "name": "stdout",
     "output_type": "stream",
     "text": [
      "Multiplication: 40\n",
      "Addition: 13\n"
     ]
    }
   ],
   "source": [
    "a=5\n",
    "b=8\n",
    "print(\"Multiplication:\", a * b)\n",
    "print(\"Addition:\", a + b)\n"
   ]
  },
  {
   "cell_type": "markdown",
   "id": "61dddb79-53b8-4096-9240-7f5b91c06930",
   "metadata": {},
   "source": [
    "### Create a code cell to convert minutes to hours\n"
   ]
  },
  {
   "cell_type": "code",
   "execution_count": 39,
   "id": "21b4c56f-8738-4603-9ba8-f9e16fa86167",
   "metadata": {},
   "outputs": [
    {
     "name": "stdout",
     "output_type": "stream",
     "text": [
      "120 minutes is equal to 2.0 hours\n"
     ]
    }
   ],
   "source": [
    "minutes = 120\n",
    "hours = minutes / 60\n",
    "print(\"120 minutes is equal to\", hours, \"hours\")"
   ]
  },
  {
   "cell_type": "markdown",
   "id": "83e5df28-ae97-43f7-a33c-d3c2e77ce22e",
   "metadata": {},
   "source": [
    "## Objectives:\n",
    "- Learn Markdown\n",
    "- Practice Python scripting"
   ]
  },
  {
   "cell_type": "markdown",
   "id": "5cffb392-e17d-411f-81af-c59118161b55",
   "metadata": {},
   "source": [
    "## Author:\n",
    "KENFACK DJOUMETIO Channel Ange"
   ]
  },
  {
   "cell_type": "code",
   "execution_count": null,
   "id": "8109896e-9549-4349-8682-db09b3ed8a89",
   "metadata": {},
   "outputs": [],
   "source": []
  }
 ],
 "metadata": {
  "kernelspec": {
   "display_name": "Python 3 (ipykernel)",
   "language": "python",
   "name": "python3"
  },
  "language_info": {
   "codemirror_mode": {
    "name": "ipython",
    "version": 3
   },
   "file_extension": ".py",
   "mimetype": "text/x-python",
   "name": "python",
   "nbconvert_exporter": "python",
   "pygments_lexer": "ipython3",
   "version": "3.12.7"
  }
 },
 "nbformat": 4,
 "nbformat_minor": 5
}
